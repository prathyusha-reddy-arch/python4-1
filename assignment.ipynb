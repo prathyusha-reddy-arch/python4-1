{
 "cells": [
  {
   "cell_type": "markdown",
   "metadata": {},
   "source": [
    "# String Methods\n",
    "1.capitalize()"
   ]
  },
  {
   "cell_type": "code",
   "execution_count": 1,
   "metadata": {},
   "outputs": [
    {
     "name": "stdout",
     "output_type": "stream",
     "text": [
      "Python is programming language\n"
     ]
    }
   ],
   "source": [
    "a=\"python is programming language\"\n",
    "print(a.capitalize())"
   ]
  },
  {
   "cell_type": "code",
   "execution_count": 3,
   "metadata": {},
   "outputs": [
    {
     "name": "stdout",
     "output_type": "stream",
     "text": [
      "python is programming language\n"
     ]
    }
   ],
   "source": [
    "#2.casefold()\n",
    "a=\"Python is Programming Language\"\n",
    "print(a.casefold())"
   ]
  },
  {
   "cell_type": "code",
   "execution_count": 6,
   "metadata": {},
   "outputs": [
    {
     "name": "stdout",
     "output_type": "stream",
     "text": [
      "       hello        \n",
      "     hello      \n",
      "hello\n"
     ]
    }
   ],
   "source": [
    "#3.center()\n",
    "a=\"hello\"\n",
    "print(a.center(20))\n",
    "print(a.center(16))\n",
    "print(a.center(5))\n"
   ]
  },
  {
   "cell_type": "code",
   "execution_count": 9,
   "metadata": {},
   "outputs": [
    {
     "name": "stdout",
     "output_type": "stream",
     "text": [
      "False\n",
      "True\n"
     ]
    }
   ],
   "source": [
    "#4.endswith()\n",
    "a=\"Python is Programming Language\"\n",
    "print(a.endswith('language'))\n",
    "print(a.endswith('Language'))"
   ]
  },
  {
   "cell_type": "code",
   "execution_count": 12,
   "metadata": {},
   "outputs": [
    {
     "name": "stdout",
     "output_type": "stream",
     "text": [
      "p\ty\tt\th\to\tn\n",
      "p y t h o n\n"
     ]
    }
   ],
   "source": [
    "#5.expandstab()\n",
    "a=\"p\\ty\\tt\\th\\to\\tn\"\n",
    "print(a)\n",
    "print(a.expandtabs(2))"
   ]
  },
  {
   "cell_type": "code",
   "execution_count": 16,
   "metadata": {},
   "outputs": [
    {
     "name": "stdout",
     "output_type": "stream",
     "text": [
      "7\n",
      "-1\n"
     ]
    }
   ],
   "source": [
    "#6.find()\n",
    "a=\"Python is Programming Language\"\n",
    "print(a.find('is'))\n",
    "print(a.find('id'))\n"
   ]
  },
  {
   "cell_type": "code",
   "execution_count": 19,
   "metadata": {},
   "outputs": [
    {
     "name": "stdout",
     "output_type": "stream",
     "text": [
      "7\n"
     ]
    },
    {
     "ename": "ValueError",
     "evalue": "substring not found",
     "output_type": "error",
     "traceback": [
      "\u001b[1;31m---------------------------------------------------------------------------\u001b[0m",
      "\u001b[1;31mValueError\u001b[0m                                Traceback (most recent call last)",
      "\u001b[1;32m<ipython-input-19-85b21653920d>\u001b[0m in \u001b[0;36m<module>\u001b[1;34m\u001b[0m\n\u001b[0;32m      1\u001b[0m \u001b[1;31m#7.index\u001b[0m\u001b[1;33m\u001b[0m\u001b[1;33m\u001b[0m\u001b[1;33m\u001b[0m\u001b[0m\n\u001b[0;32m      2\u001b[0m \u001b[0mprint\u001b[0m\u001b[1;33m(\u001b[0m\u001b[0ma\u001b[0m\u001b[1;33m.\u001b[0m\u001b[0mindex\u001b[0m\u001b[1;33m(\u001b[0m\u001b[1;34m'is'\u001b[0m\u001b[1;33m)\u001b[0m\u001b[1;33m)\u001b[0m\u001b[1;33m\u001b[0m\u001b[1;33m\u001b[0m\u001b[0m\n\u001b[1;32m----> 3\u001b[1;33m \u001b[0mprint\u001b[0m\u001b[1;33m(\u001b[0m\u001b[0ma\u001b[0m\u001b[1;33m.\u001b[0m\u001b[0mindex\u001b[0m\u001b[1;33m(\u001b[0m\u001b[1;34m'id'\u001b[0m\u001b[1;33m)\u001b[0m\u001b[1;33m)\u001b[0m   \u001b[1;31m#if not found it returns exception\u001b[0m\u001b[1;33m\u001b[0m\u001b[1;33m\u001b[0m\u001b[0m\n\u001b[0m",
      "\u001b[1;31mValueError\u001b[0m: substring not found"
     ]
    }
   ],
   "source": [
    "#7.index\n",
    "print(a.index('is'))\n",
    "print(a.index('id'))   #if not found it returns exception"
   ]
  },
  {
   "cell_type": "code",
   "execution_count": null,
   "metadata": {},
   "outputs": [],
   "source": [
    "#8.format\n",
    "txt=\"hai {0},welcome to{1}\".format(\"Python\",\"hyd\")\n",
    "txt1=\"hai {name},welcome to{place}\".format(name=\"Python\",place=\"hyd\")\n",
    "print(txt)\n",
    "print(txt1)"
   ]
  },
  {
   "cell_type": "code",
   "execution_count": 35,
   "metadata": {},
   "outputs": [
    {
     "name": "stdout",
     "output_type": "stream",
     "text": [
      "Python is  a Programming Language\n",
      "Python is      a Programming Language\n",
      "Python isa   Programming Language\n",
      "binary version of 10 is 1010\n",
      "binary version of 10 is 1.000000E+01\n",
      "binary version of 10 is A\n"
     ]
    }
   ],
   "source": [
    "txt=\"Python is{:>3} Programming Language\"\n",
    "print(txt.format(\"a\"))\n",
    "txt=\"Python is{:>7} Programming Language\"\n",
    "print(txt.format(\"a\"))\n",
    "txt=\"Python is{:<3} Programming Language\"\n",
    "print(txt.format(\"a\"))\n",
    "txt=\"binary version of {0} is {0:b}\"\n",
    "print(txt.format(10))\n",
    "txt=\"binary version of {0} is {0:E}\"\n",
    "print(txt.format(10))\n",
    "txt=\"binary version of {0} is {0:X}\"\n",
    "print(txt.format(10))\n"
   ]
  },
  {
   "cell_type": "code",
   "execution_count": 37,
   "metadata": {},
   "outputs": [
    {
     "name": "stdout",
     "output_type": "stream",
     "text": [
      "False\n",
      "True\n"
     ]
    }
   ],
   "source": [
    "#9.isalnum()\n",
    "a=\"Python is  a Programming Language\"\n",
    "print(a.isalnum())\n",
    "b=\"hello123\"\n",
    "print(b.isalnum())"
   ]
  },
  {
   "cell_type": "code",
   "execution_count": 86,
   "metadata": {},
   "outputs": [
    {
     "name": "stdout",
     "output_type": "stream",
     "text": [
      "False\n",
      "False\n",
      "True\n"
     ]
    }
   ],
   "source": [
    "#10.isalpha()   not even spacesshould be there\n",
    "a=\"Python is  a Programming Language\"\n",
    "print(a.isalpha())\n",
    "b=\"hello123\"\n",
    "print(b.isalpha())\n",
    "a=\"hello\"\n",
    "print(a.isalpha())"
   ]
  },
  {
   "cell_type": "code",
   "execution_count": 87,
   "metadata": {},
   "outputs": [
    {
     "name": "stdout",
     "output_type": "stream",
     "text": [
      "True\n",
      "False\n"
     ]
    }
   ],
   "source": [
    "#11.isdecimal()\n",
    "a=\"\\u0030\"  #unicode for 0\n",
    "b=\"\\u0047\"    #unicode gor G\n",
    "print(a.isdecimal())\n",
    "print(b.isdecimal())"
   ]
  },
  {
   "cell_type": "code",
   "execution_count": 88,
   "metadata": {},
   "outputs": [
    {
     "name": "stdout",
     "output_type": "stream",
     "text": [
      "True\n",
      "False\n"
     ]
    }
   ],
   "source": [
    "#12.isdigit()\n",
    "x=\"1234\"\n",
    "print(x.isdigit())\n",
    "x=\"13 \"\n",
    "print(x.isdigit())"
   ]
  },
  {
   "cell_type": "code",
   "execution_count": 89,
   "metadata": {},
   "outputs": [
    {
     "name": "stdout",
     "output_type": "stream",
     "text": [
      "True\n",
      "False\n"
     ]
    }
   ],
   "source": [
    "#13.isidentifier()   follows all the rules of identifier\n",
    "a=\"abc\"\n",
    "print(a.isidentifier())\n",
    "a=\"2sdf\"\n",
    "print(a.isidentifier())"
   ]
  },
  {
   "cell_type": "code",
   "execution_count": 90,
   "metadata": {
    "scrolled": true
   },
   "outputs": [
    {
     "name": "stdout",
     "output_type": "stream",
     "text": [
      "True\n",
      "True\n",
      "False\n"
     ]
    }
   ],
   "source": [
    "#14.islower()\n",
    "a=\"hello\"\n",
    "print(a.islower())\n",
    "a=\"hello123\"\n",
    "print(a.islower())\n",
    "a=\"Hello\"\n",
    "print(a.islower())"
   ]
  },
  {
   "cell_type": "code",
   "execution_count": 91,
   "metadata": {},
   "outputs": [
    {
     "name": "stdout",
     "output_type": "stream",
     "text": [
      "hello\n"
     ]
    }
   ],
   "source": [
    "#15.lower()\n",
    "a=\"HELLo\"\n",
    "print(a.lower())"
   ]
  },
  {
   "cell_type": "code",
   "execution_count": 92,
   "metadata": {},
   "outputs": [
    {
     "name": "stdout",
     "output_type": "stream",
     "text": [
      "True\n",
      "False\n"
     ]
    }
   ],
   "source": [
    "#16.isprintable()\n",
    "a=\"Python is ! a Programming Language\"\n",
    "print(a.isprintable())\n",
    "a=\"Python is \\n a Programming Language\"\n",
    "print(a.isprintable())"
   ]
  },
  {
   "cell_type": "code",
   "execution_count": 93,
   "metadata": {},
   "outputs": [
    {
     "name": "stdout",
     "output_type": "stream",
     "text": [
      "False\n",
      "True\n"
     ]
    }
   ],
   "source": [
    "#17.isspace()\n",
    "a=\"Python is  a Programming Language\"\n",
    "print(a.isspace())\n",
    "a=\" \"\n",
    "print(a.isspace())"
   ]
  },
  {
   "cell_type": "code",
   "execution_count": 94,
   "metadata": {},
   "outputs": [
    {
     "name": "stdout",
     "output_type": "stream",
     "text": [
      "False\n",
      "True\n"
     ]
    }
   ],
   "source": [
    "#18.istitle()\n",
    "a=\"Python is  a Programming Language\"\n",
    "print(a.istitle())\n",
    "a=\"Python Is  A Programming Language\"\n",
    "print(a.istitle())\n"
   ]
  },
  {
   "cell_type": "code",
   "execution_count": 95,
   "metadata": {},
   "outputs": [
    {
     "name": "stdout",
     "output_type": "stream",
     "text": [
      "True\n"
     ]
    }
   ],
   "source": [
    "#19.isupper()\n",
    "a=\"HELLO\"\n",
    "print(a.isupper())"
   ]
  },
  {
   "cell_type": "code",
   "execution_count": 96,
   "metadata": {},
   "outputs": [
    {
     "name": "stdout",
     "output_type": "stream",
     "text": [
      "welcome to BRECW\n",
      "welcome\n",
      "to\n",
      "BRECW\n"
     ]
    }
   ],
   "source": [
    "#20.join()\n",
    "a=(\"welcome\",\"to\",\"BRECW\")\n",
    "print(\" \".join(a))\n",
    "print(\"\\n\".join(a))"
   ]
  },
  {
   "cell_type": "code",
   "execution_count": 97,
   "metadata": {},
   "outputs": [
    {
     "name": "stdout",
     "output_type": "stream",
     "text": [
      "welcome to hyderabad           good morning\n"
     ]
    }
   ],
   "source": [
    "#21.ljust()\n",
    "a=\"welcome to hyderabad\"\n",
    "b=a.ljust(30)\n",
    "print(b,\"good morning\")"
   ]
  },
  {
   "cell_type": "code",
   "execution_count": 98,
   "metadata": {},
   "outputs": [
    {
     "name": "stdout",
     "output_type": "stream",
     "text": [
      "hello      hai\n",
      "       hello hai\n"
     ]
    }
   ],
   "source": [
    "#22.lstrip()\n",
    "a=\"       hello     \"\n",
    "b=a.lstrip()\n",
    "print(b,\"hai\")\n",
    "b=a.rstrip()\n",
    "print(b,\"hai\")"
   ]
  },
  {
   "cell_type": "code",
   "execution_count": 99,
   "metadata": {},
   "outputs": [
    {
     "name": "stdout",
     "output_type": "stream",
     "text": [
      "('python ', 'is', ' a programming language')\n",
      "('python is a programming language', '', '')\n"
     ]
    }
   ],
   "source": [
    "#23.partition()\n",
    "a=\"python is a programming language\"\n",
    "print(a.partition(\"is\"))\n",
    "print(a.partition(\"id\"))"
   ]
  },
  {
   "cell_type": "code",
   "execution_count": 101,
   "metadata": {},
   "outputs": [
    {
     "name": "stdout",
     "output_type": "stream",
     "text": [
      "['python', 'is', 'a', 'programming', 'language']\n",
      "['python is a programming language']\n"
     ]
    }
   ],
   "source": [
    "#24.rsplit()\n",
    "a=\"python is a programming language\"\n",
    "print(a.rsplit())\n",
    "print(a.rsplit(\",\"))"
   ]
  },
  {
   "cell_type": "code",
   "execution_count": 70,
   "metadata": {},
   "outputs": [
    {
     "name": "stdout",
     "output_type": "stream",
     "text": [
      "welcome to mumbai\n"
     ]
    }
   ],
   "source": [
    "#25.replace()\n",
    "a=\"welcome to hyderabad\"\n",
    "print(a.replace(\"hyderabad\",\"mumbai\"))"
   ]
  },
  {
   "cell_type": "code",
   "execution_count": 68,
   "metadata": {},
   "outputs": [
    {
     "name": "stdout",
     "output_type": "stream",
     "text": [
      "13\n",
      "0\n"
     ]
    },
    {
     "ename": "ValueError",
     "evalue": "substring not found",
     "output_type": "error",
     "traceback": [
      "\u001b[1;31m---------------------------------------------------------------------------\u001b[0m",
      "\u001b[1;31mValueError\u001b[0m                                Traceback (most recent call last)",
      "\u001b[1;32m<ipython-input-68-e0619a63887f>\u001b[0m in \u001b[0;36m<module>\u001b[1;34m\u001b[0m\n\u001b[0;32m      3\u001b[0m \u001b[0mprint\u001b[0m\u001b[1;33m(\u001b[0m\u001b[0ma\u001b[0m\u001b[1;33m.\u001b[0m\u001b[0mrindex\u001b[0m\u001b[1;33m(\u001b[0m\u001b[1;34m\"P\"\u001b[0m\u001b[1;33m)\u001b[0m\u001b[1;33m)\u001b[0m\u001b[1;33m\u001b[0m\u001b[1;33m\u001b[0m\u001b[0m\n\u001b[0;32m      4\u001b[0m \u001b[0mprint\u001b[0m\u001b[1;33m(\u001b[0m\u001b[0ma\u001b[0m\u001b[1;33m.\u001b[0m\u001b[0mindex\u001b[0m\u001b[1;33m(\u001b[0m\u001b[1;34m\"P\"\u001b[0m\u001b[1;33m)\u001b[0m\u001b[1;33m)\u001b[0m\u001b[1;33m\u001b[0m\u001b[1;33m\u001b[0m\u001b[0m\n\u001b[1;32m----> 5\u001b[1;33m \u001b[0mprint\u001b[0m\u001b[1;33m(\u001b[0m\u001b[0ma\u001b[0m\u001b[1;33m.\u001b[0m\u001b[0mindex\u001b[0m\u001b[1;33m(\u001b[0m\u001b[1;34m\"p\"\u001b[0m\u001b[1;33m)\u001b[0m\u001b[1;33m)\u001b[0m\u001b[1;33m\u001b[0m\u001b[1;33m\u001b[0m\u001b[0m\n\u001b[0m",
      "\u001b[1;31mValueError\u001b[0m: substring not found"
     ]
    }
   ],
   "source": [
    "#26.rindex()\n",
    "a=\"Python is  a Programming Language\"\n",
    "print(a.rindex(\"P\"))\n",
    "print(a.index(\"P\"))\n",
    "print(a.index(\"p\"))  # lower case \"p\"   so exception"
   ]
  },
  {
   "cell_type": "code",
   "execution_count": 67,
   "metadata": {},
   "outputs": [
    {
     "name": "stdout",
     "output_type": "stream",
     "text": [
      "13\n",
      "0\n"
     ]
    }
   ],
   "source": [
    "#27.rfind()\n",
    "a=\"Python is  a Programming Language\"\n",
    "print(a.rfind(\"P\"))\n",
    "print(a.find(\"P\"))"
   ]
  },
  {
   "cell_type": "code",
   "execution_count": 64,
   "metadata": {},
   "outputs": [
    {
     "name": "stdout",
     "output_type": "stream",
     "text": [
      "       Python is  a Programming Language\n",
      "Python is  a Programming Language\n"
     ]
    }
   ],
   "source": [
    "#28.rjust()\n",
    "a=\"Python is  a Programming Language\"\n",
    "print(a.rjust(40))\n",
    "print(a.rjust(30))\n"
   ]
  },
  {
   "cell_type": "code",
   "execution_count": 62,
   "metadata": {},
   "outputs": [
    {
     "name": "stdout",
     "output_type": "stream",
     "text": [
      "pYTHON IS  A pROGRAMMING lANGUAGE\n"
     ]
    }
   ],
   "source": [
    "#29.swapcase\n",
    "a=\"Python is  a Programming Language\"\n",
    "print(a.swapcase())"
   ]
  },
  {
   "cell_type": "code",
   "execution_count": 61,
   "metadata": {},
   "outputs": [
    {
     "name": "stdout",
     "output_type": "stream",
     "text": [
      "{104: 112}\n",
      "pai pello\n"
     ]
    }
   ],
   "source": [
    "#30.maketrans()    translate()\n",
    "a=\"hai hello\"\n",
    "print(a.maketrans(\"h\",\"p\"))\n",
    "b=a.maketrans(\"h\",\"p\")\n",
    "print(a.translate(b))"
   ]
  },
  {
   "cell_type": "code",
   "execution_count": 58,
   "metadata": {},
   "outputs": [
    {
     "name": "stdout",
     "output_type": "stream",
     "text": [
      "hello\n",
      "00hai\n"
     ]
    }
   ],
   "source": [
    "#31.zfill()\n",
    "a=\"hello\"\n",
    "print(a.zfill(5))\n",
    "a=\"hai\"\n",
    "print(a.zfill(5))"
   ]
  },
  {
   "cell_type": "code",
   "execution_count": null,
   "metadata": {},
   "outputs": [],
   "source": []
  }
 ],
 "metadata": {
  "kernelspec": {
   "display_name": "Python 3",
   "language": "python",
   "name": "python3"
  },
  "language_info": {
   "codemirror_mode": {
    "name": "ipython",
    "version": 3
   },
   "file_extension": ".py",
   "mimetype": "text/x-python",
   "name": "python",
   "nbconvert_exporter": "python",
   "pygments_lexer": "ipython3",
   "version": "3.7.6"
  }
 },
 "nbformat": 4,
 "nbformat_minor": 4
}
